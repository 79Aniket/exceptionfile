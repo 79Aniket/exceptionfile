{
 "cells": [
  {
   "cell_type": "markdown",
   "id": "89f31545-8a75-4b88-bcfe-11794ddb7615",
   "metadata": {},
   "source": [
    "### Q6. List down some best practices for exception handling in python."
   ]
  },
  {
   "cell_type": "markdown",
   "id": "2b6c228e-b186-43e4-b60c-6cdc7271abb0",
   "metadata": {},
   "source": [
    "### 1. ues always a specific exception"
   ]
  },
  {
   "cell_type": "markdown",
   "id": "66cf7014-5f1d-46a3-b5c8-9a3affe17077",
   "metadata": {},
   "source": [
    "### 2. print   always a proper message"
   ]
  },
  {
   "cell_type": "markdown",
   "id": "aabd68f4-5a88-4f23-9a3f-0e59e350b65a",
   "metadata": {},
   "source": [
    "### 3. always try to log your error"
   ]
  },
  {
   "cell_type": "markdown",
   "id": "565ed5c2-4fe1-4ec5-8b78-2b490cfd0b73",
   "metadata": {},
   "source": [
    "### 4. always avoid to write multiple exception\n"
   ]
  },
  {
   "cell_type": "markdown",
   "id": "a491f335-f83f-4d1c-a6ce-f2852033fd80",
   "metadata": {},
   "source": [
    "### 5. document all the error , cleanup all the resources\n"
   ]
  },
  {
   "cell_type": "code",
   "execution_count": null,
   "id": "89d4601a-5864-43a1-b7e2-a05816c52362",
   "metadata": {},
   "outputs": [],
   "source": []
  },
  {
   "cell_type": "markdown",
   "id": "0ad9162e-4e9a-45a9-8778-d1e73990847c",
   "metadata": {},
   "source": [
    "#### Q4. Why LookupError class is used? Explain with an example KeyError and IndexError."
   ]
  },
  {
   "cell_type": "code",
   "execution_count": 1,
   "id": "5d306d8d-d1ba-4701-a7d7-5263f80dee47",
   "metadata": {},
   "outputs": [
    {
     "name": "stdout",
     "output_type": "stream",
     "text": [
      "list index out of range\n"
     ]
    }
   ],
   "source": [
    "try:\n",
    "    l  = [1,5,8,9]\n",
    "    print(l[6])\n",
    "except IndexError as e:\n",
    "    print(e)\n"
   ]
  },
  {
   "cell_type": "code",
   "execution_count": 3,
   "id": "48ab6b45-9857-410f-ac31-c0d8bf55d51c",
   "metadata": {},
   "outputs": [
    {
     "name": "stdout",
     "output_type": "stream",
     "text": [
      "'key2'\n"
     ]
    }
   ],
   "source": [
    "try:\n",
    "    d = {\"key\" :\"sks\", 1 : [1,5,3,96]}\n",
    "    print(d[\"key2\"])\n",
    "except KeyError as e :\n",
    "    print(e)"
   ]
  },
  {
   "cell_type": "code",
   "execution_count": null,
   "id": "ebed8754-1efb-4625-b89e-42bb2b1eea1b",
   "metadata": {},
   "outputs": [],
   "source": []
  },
  {
   "cell_type": "markdown",
   "id": "4c8c34c2-e766-4af1-a905-d75530fb711a",
   "metadata": {},
   "source": [
    "### Q3. What errors are defined in the ArithmeticError class? Explain any two with an example."
   ]
  },
  {
   "cell_type": "code",
   "execution_count": 4,
   "id": "e337d26c-5783-45ce-96bd-7a966d12b146",
   "metadata": {},
   "outputs": [
    {
     "name": "stdout",
     "output_type": "stream",
     "text": [
      " i am trying to handle a Zerodivision error division by zero\n"
     ]
    }
   ],
   "source": [
    "try:\n",
    "    a = 10/0\n",
    "except ZeroDivisionError as e:\n",
    "    print(\" i am trying to handle a Zerodivision error\"  ,e)"
   ]
  },
  {
   "cell_type": "code",
   "execution_count": 5,
   "id": "2b96e574-36f8-4eb6-8ce4-dcffd7a800f1",
   "metadata": {},
   "outputs": [
    {
     "name": "stdout",
     "output_type": "stream",
     "text": [
      "i am trying to handle a Arithmetic Error division by zero\n"
     ]
    }
   ],
   "source": [
    "try:\n",
    "    a = 5/0\n",
    "except ArithmeticError as e :\n",
    "      print(\"i am trying to handle a Arithmetic Error\",e)"
   ]
  },
  {
   "cell_type": "code",
   "execution_count": null,
   "id": "af350e66-595d-41b3-b2ec-54efa867c2db",
   "metadata": {},
   "outputs": [],
   "source": []
  },
  {
   "cell_type": "code",
   "execution_count": null,
   "id": "5b1db6c7-10ff-4bfc-892f-1aeab95280fa",
   "metadata": {},
   "outputs": [],
   "source": []
  }
 ],
 "metadata": {
  "kernelspec": {
   "display_name": "Python 3 (ipykernel)",
   "language": "python",
   "name": "python3"
  },
  "language_info": {
   "codemirror_mode": {
    "name": "ipython",
    "version": 3
   },
   "file_extension": ".py",
   "mimetype": "text/x-python",
   "name": "python",
   "nbconvert_exporter": "python",
   "pygments_lexer": "ipython3",
   "version": "3.10.8"
  }
 },
 "nbformat": 4,
 "nbformat_minor": 5
}
